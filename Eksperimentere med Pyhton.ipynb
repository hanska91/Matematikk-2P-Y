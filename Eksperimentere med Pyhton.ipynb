{
 "cells": [
  {
   "cell_type": "code",
   "execution_count": 1,
   "id": "511d81a8-445b-4bf3-960b-7459882e4180",
   "metadata": {},
   "outputs": [
    {
     "name": "stdout",
     "output_type": "stream",
     "text": [
      "      Name  Age         City\n",
      "0    Alice   25     New York\n",
      "1      Bob   30  Los Angeles\n",
      "2  Charlie   35      Chicago"
     ]
    }
   ],
   "source": [
    "import pandas as pd\n",
    "\n",
    "# Sample data\n",
    "data = {\n",
    "    'Name': ['Alice', 'Bob', 'Charlie'],\n",
    "    'Age': [25, 30, 35],\n",
    "    'City': ['New York', 'Los Angeles', 'Chicago']\n",
    "}\n",
    "\n",
    "# Create DataFrame\n",
    "df = pd.DataFrame(data)\n",
    "\n",
    "# Display the table\n",
    "print(df)"
   ]
  },
  {
   "cell_type": "code",
   "execution_count": 12,
   "id": "d036748e-e50f-47f1-b828-0a86cc25d78e",
   "metadata": {},
   "outputs": [
    {
     "name": "stdout",
     "output_type": "stream",
     "text": [
      "Original Table:\n    Antall Liter brus  Frekvens\n0                   1        23\n1                   2        45\n2                   3        32\n3                   4        46\n4                   5        53\n5                   6        21\n6                   8        34\n7                   7         1\n8                   8         4\n9                   9         2\n10                 10         7\n\nStandard Deviation of Antall Liter brus using Frekvens as frequency: 2.31\nMean of Antall Liter brus using Frekvens as frequency: 4.41"
     ]
    }
   ],
   "source": [
    "!pip install pandas numpy openpyxl\n",
    "import pandas as pd\n",
    "import numpy as np\n",
    "import tkinter as tk\n",
    "from tkinter import filedialog\n",
    "\n",
    "# Function to open file dialog and select an Excel file\n",
    "def select_file():\n",
    "    root = tk.Tk()\n",
    "    root.withdraw()  # Hide the root window\n",
    "    file_path = filedialog.askopenfilename(filetypes=[(\"Excel files\", \"*.xlsx *.xls\")])\n",
    "    return file_path\n",
    "\n",
    "# Function to calculate mean using a frequency table\n",
    "def calculate_mean(df, value_column, frequency_column):\n",
    "    total_value = np.sum(df[value_column] * df[frequency_column])\n",
    "    total_frequency = np.sum(df[frequency_column])\n",
    "    mean = total_value / total_frequency\n",
    "    return mean\n",
    "\n",
    "# Function to calculate standard deviation using a frequency table\n",
    "def calculate_std_dev(df, value_column, frequency_column):\n",
    "    # Calculate the mean\n",
    "    mean = calculate_mean(df, value_column, frequency_column)\n",
    "    \n",
    "    # Calculate the variance\n",
    "    variance = np.sum(df[frequency_column] * (df[value_column] - mean) ** 2) / np.sum(df[frequency_column])\n",
    "    \n",
    "    # Calculate the standard deviation\n",
    "    std_dev = np.sqrt(variance)\n",
    "    \n",
    "    return std_dev\n",
    "\n",
    "# Select the Excel file\n",
    "file_path = select_file()\n",
    "\n",
    "# Specify the columns for value and frequency\n",
    "value_column = 'Antall Liter brus'  # Replace with your actual value column name\n",
    "frequency_column = 'Frekvens'  # Replace with your actual frequency column name\n",
    "\n",
    "# Calculate and display the standard deviation and mean\n",
    "if file_path:\n",
    "    df = pd.read_excel(file_path, engine='openpyxl')\n",
    "    print(\"Original Table:\")\n",
    "    print(df)\n",
    "    \n",
    "    if value_column in df.columns and frequency_column in df.columns:\n",
    "        std_dev = calculate_std_dev(df, value_column, frequency_column)\n",
    "        mean = calculate_mean(df, value_column, frequency_column)\n",
    "        print(f\"\\nStandard Deviation of {value_column} using {frequency_column} as frequency: {std_dev:.2f}\")\n",
    "        print(f\"Mean of {value_column} using {frequency_column} as frequency: {mean:.2f}\")\n",
    "    else:\n",
    "        print(f\"\\nOne or both of the specified columns '{value_column}' and '{frequency_column}' do not exist in the selected file.\")\n",
    "else:\n",
    "    print(\"No file selected.\")"
   ]
  },
  {
   "cell_type": "code",
   "execution_count": null,
   "id": "742da061-b2b9-4365-b2d0-2f533d32520a",
   "metadata": {},
   "outputs": [],
   "source": []
  }
 ],
 "metadata": {
  "kernelspec": {
   "display_name": "Python 3 (ipykernel)",
   "language": "python",
   "name": "python3"
  },
  "language_info": {
   "codemirror_mode": {
    "name": "ipython",
    "version": 3
   },
   "file_extension": ".py",
   "mimetype": "text/x-python",
   "name": "python",
   "nbconvert_exporter": "python",
   "pygments_lexer": "ipython3",
   "version": "3.12.7"
  }
 },
 "nbformat": 4,
 "nbformat_minor": 5
}
